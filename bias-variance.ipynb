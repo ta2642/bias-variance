{
 "cells": [
  {
   "cell_type": "markdown",
   "id": "0fd04a12",
   "metadata": {},
   "source": [
    "# Tamanna Ananna\n",
    "## ta2642"
   ]
  },
  {
   "cell_type": "markdown",
   "id": "2669bc50",
   "metadata": {},
   "source": [
    "The expected mean squared error of a regression problem can be decomposed into bias and variance components.\n",
    "### $\\mathbb{E}[MSE] = variance + bias^2 + noise$\n",
    "\n",
    "\n",
    "Let's derive this Bias-Variance Decomposition:\n",
    "\n",
    "We let $y(x) = f(x) + \\epsilon$ where $\\epsilon$ is noise. <br />\n",
    "\n",
    "\n",
    "We know that $\\mathbb{E}[\\epsilon^2] = 0$ and Var($\\epsilon) = \\sigma^2$ <br />\n",
    "Let $g(x)$ represent the predicted function.\n",
    "\n",
    "We are given that MSE is: <br />\n",
    "$\\frac{1}{t}\\sum^t_{i=1} (y(x_i) -g(x_i))^2$ <br />\n",
    "\n",
    "Since the difference is squared, the above is equivalen to below: <br />\n",
    "$\\frac{1}{t}\\sum^t_{i=1} (g(x_i) -y(x_i))^2$ <br />\n",
    "\n",
    "The expectation of the squared error is thus: <br />\n",
    "$\\mathbb{E}[MSE] = \\mathbb{E}[g(x) - y(x)^2]$ <br />\n",
    "\n",
    "If we add the following term to the inside square, it adds up to 0: $\\mathbb{E}[g(x)] - \\mathbb{E}[g(x)]$.\n",
    "\n",
    "$\\mathbb{E}[MSE] = \\mathbb{E}\\big[\\big(g(x) - \\mathbb{E}[g(x)] + \\mathbb{E}[g(x)]  - y(x)\\big)^2\\big]$ <br />\n",
    "\n",
    "\n",
    "We let a = $ \\big(g(x) - \\mathbb{E}[g(x)]\\big) $ <br />\n",
    "and b = $\\big(\\mathbb{E}[g(x)]  - y(x)\\big)$ <br />\n",
    "We know that $(a+b)^2 = a^2 +2ab+ b^2$.\n",
    "\n",
    "\n",
    "We expand above:\n",
    "\n",
    "$\\mathbb{E}[MSE] = \\mathbb{E}\\Big[\\big(g(x) - \\mathbb{E}[g(x)]\\big)^2+ \n",
    "2\\big(g(x) - \\mathbb{E}[g(x)]\\big)*\\big(\\mathbb{E}[g(x)]  - y(x)\\big) +\n",
    "\\big(\\mathbb{E}[g(x)]  - y(x)\\big)^2\\Big]$ \n",
    "\n",
    "Using linearity of expectation, we get:\n",
    "$\\mathbb{E}[MSE] = \\mathbb{E}\\Big[\\big(g(x) - \\mathbb{E}[g(x)]\\big)^2\\Big]+ \n",
    "\\mathbb{E}\\Big[2\\big(g(x) - \\mathbb{E}[g(x)]\\big)*\\big(\\mathbb{E}[g(x)]  - y(x)\\big)\\Big] +\n",
    "\\mathbb{E}\\Big[\\big(\\mathbb{E}[g(x)]  - y(x)\\big)^2\\Big]$ <br />\n",
    "\n",
    "\n",
    "The middle term is:<br />\n",
    "$\\mathbb{E}\\Big[2\\big(g(x) - \\mathbb{E}[g(x)]\\big)*\\big(\\mathbb{E}[g(x)]  - y(x)\\big)\\Big] $<br />\n",
    "$\\mathbb{E}\\Big[2(g(x)\\mathbb{E}[g(x)] - g(x)y(x) - g(x)\\mathbb{E}[g(x)] + \\mathbb{E}[g(x)y(x) ])\\big]$ <br />\n",
    "\n",
    "Using the linearity of expectation again, we get: <br />\n",
    "$\\mathbb{E}[g(x)]^2 - \\mathbb{E}[g(x)]\\mathbb{E}[y(x)] - \\mathbb{E}[g(x)]\\mathbb{E}[g(x)] + \\mathbb{E}[g(x)]\\mathbb{E}[y(x) ])$ <br />\n",
    "We see that the middle term cancels out to zero. <br />\n",
    "\n",
    "So we are left with (equation 1): <br />\n",
    "\n",
    "## $\\mathbb{E}[MSE] = \\mathbb{E}[SE] = \\mathbb{E}\\Big[\\big(g(x) - \\mathbb{E}[g(x)]\\big)^2\\Big]+ \n",
    "\\mathbb{E}\\Big[\\big(\\mathbb{E}[g(x)]  - y(x)\\big)^2\\Big]$ <br /> \n",
    "\n",
    "We see that the first term is the variance of the estimator: \n",
    "\n",
    "### variance : $\\mathbb{E}\\Big[\\big(g(x) - \\mathbb{E}[g(x)]\\big)^2\\Big]$\n",
    "\n",
    "\n",
    "**Now we take a look at the second term of eq 1:**\n",
    "$\\mathbb{E}\\Big[\\big(\\mathbb{E}[g(x)]  - y(x)\\big)^2\\Big]$, expanding into:\n",
    "\n",
    "$= \\mathbb{E}\\Big[\\big(\\mathbb{E}[g(x)])^2  -2\\mathbb{E}[g(x)]*y(x)+ y(x)^2\\Big]$ <br />\n",
    "Using linearity of expectation, we get:\n",
    "\n",
    "$= (\\mathbb{E}[g(x)])^2  - 2\\mathbb{E}[g(x)]*\\mathbb{E}[y(x)]+ \\mathbb{E}[y(x)^2]$ <br />\n",
    "\n",
    "We know that $\\mathbb{E}[y(x)] = f(x)$. <br />\n",
    "$= (\\mathbb{E}[g(x)])^2  - 2\\mathbb{E}[g(x)]*f(x)+ \\mathbb{E}[y(x)^2]$ <br />\n",
    "\n",
    "\n",
    "We also know that $\\mathbb{E}[y(x)^2] - \\mathbb{E}[y(x)]^2 = (\\mathbb{E}[y(x) - \\mathbb{E}[y(x)]\\big])^2$ \n",
    "\n",
    "So we can re-write $\\mathbb{E}[y(x)^2] = \\mathbb{E}[y(x)]^2 + (\\mathbb{E}\\big[y(x) - \\mathbb{E}[y(x)]\\big])^2 $\n",
    "\n",
    "This gives us: \n",
    "\n",
    "$= (\\mathbb{E}[g(x)])^2  - 2\\mathbb{E}[g(x)]*f(x)+ \\mathbb{E}[y(x)]^2 + (\\mathbb{E}\\big[y(x) - \\mathbb{E}[y(x)]\\big])^2 $ <br />\n",
    "\n",
    "Substituting $\\mathbb{E}[y(x)] = f(x)$ once again, we get:\n",
    "\n",
    "$= (\\mathbb{E}[g(x)])^2  -2 \\mathbb{E}[g(x)]*f(x)+ f(x)^2 + (\\mathbb{E}[y(x)] - (\\mathbb{E}\\big[y(x) - \\mathbb{E}[y(x)]\\big])^2 $ <br />\n",
    "\n",
    "We see that $(\\mathbb{E}[g(x)])^2  - 2\\mathbb{E}[g(x)]*f(x)+ f(x)^2 $ is simply $\\big(\\mathbb{E}[g(x)] - f(x) \\big)^2$\n",
    "\n",
    "And we see that this is just the bias term squared.\n",
    "\n",
    "### bias^2 : $\\big(\\mathbb{E}[g(x)] - f(x) \\big)^2$\n",
    "\n",
    "Putting the expanded second term back into equation 1, we get:\n",
    "\n",
    "### $\\mathbb{E}[MSE] = \\mathbb{E}\\Big[\\big(g(x) - \\mathbb{E}[g(x)]\\big)^2\\Big] + (\\big(\\mathbb{E}[g(x)] - f(x) \\big)^2 + (\\mathbb{E}\\big[y(x) - \\mathbb{E}[y(x)]\\big])^2 $ <br />\n",
    "\n",
    "### $\\mathbb{E}[MSE] = variance + bias^2 + (\\mathbb{E}\\big[y(x) - \\mathbb{E}[y(x)]\\big])^2$\n",
    "\n",
    "This leaves us with just this term: \n",
    "\n",
    "$(\\mathbb{E}\\big[y(x) - \\mathbb{E}[y(x)]\\big])^2$ <br />\n",
    "= $(\\mathbb{E}\\big[y(x) - f(x)\\big])^2$ using $\\mathbb{E}[y(x)] = f(x)$ <br />\n",
    "We know that $y(x) = f(x) + \\epsilon$, so this is just variance of the noise. \n",
    "\n",
    "### $\\mathbb{E}[MSE] = variance + bias^2 + noise$\n",
    "\n",
    "\n",
    "\n"
   ]
  },
  {
   "cell_type": "markdown",
   "id": "d63124b4",
   "metadata": {},
   "source": [
    "Now we will consider the case when y(x) = x + sin(1.5x) + N (0, 0.3), \n",
    "where N (0, 0.3) is normal distribution with mean 0 and variance 0.3. \n",
    "Here f (x) = x + sin(1.5x) and ε = N (0, 0.3). \n",
    "\n",
    "We will create a dataset of size 20 points by randomly generating samples from y. \n",
    "Display the dataset and f(x). Use scatter plot for y and smooth line plot for f(x). "
   ]
  },
  {
   "cell_type": "code",
   "execution_count": 771,
   "id": "1af4f4ac",
   "metadata": {},
   "outputs": [
    {
     "data": {
      "text/plain": [
       "<matplotlib.legend.Legend at 0x7fb6c30cf5b0>"
      ]
     },
     "execution_count": 771,
     "metadata": {},
     "output_type": "execute_result"
    },
    {
     "data": {
      "image/png": "[encoded data removed]",
      "text/plain": [
       "<Figure size 432x432 with 1 Axes>"
      ]
     },
     "metadata": {
      "needs_background": "light"
     },
     "output_type": "display_data"
    }
   ],
   "source": [
    "import numpy as np\n",
    "import matplotlib.pyplot as plt\n",
    "\n",
    "np.random.seed(50)\n",
    "\n",
    "n_observ = 20\n",
    "noise_std = 0.3\n",
    "\n",
    "x_grid = np.linspace(0, 10, n_observ)\n",
    "x_rand = 10 * np.random.rand(n_observ) \n",
    "\n",
    "def f(x):\n",
    "    return x + np.sin(1.5*x)\n",
    "\n",
    "#randomly generate sample from y\n",
    "def y(x, n):\n",
    "    return f(x) + np.random.randn(n) * noise_std\n",
    "\n",
    "\n",
    "#sort the sampled x\n",
    "x_rand = np.sort(x_rand)\n",
    "sample_y = y(x_rand, n_observ)\n",
    "fig, axs = plt.subplots(figsize=(6, 6))\n",
    "#line for plot\n",
    "plt.title('Problem 2.2')\n",
    "plt.plot(x_grid, f(x_grid), label = 'f(x)')\n",
    "\n",
    "#scatter for y\n",
    "plt.scatter(x_rand,sample_y , label='y')\n",
    "plt.legend(fontsize=14)"
   ]
  },
  {
   "cell_type": "markdown",
   "id": "88343050",
   "metadata": {},
   "source": [
    "# Problem 2.3\n",
    "Use weighted sum of polynomials as an estimator function for f(x), in particular, let the form of estimator function be:\n",
    "\n",
    "gn(x)=β0 +β1x+β2x2 +.....+βnxn\n",
    "\n",
    "Consider three candidate estimators, g1,g3, and g10. Estimate the coefficients of each of the three estimators using the sampled dataset and plot y(x),f(x),g1(x),g3(x),g10(x). Which estimator is un- derfitting ? Which one is overfitting ?"
   ]
  },
  {
   "cell_type": "markdown",
   "id": "11ba7489",
   "metadata": {},
   "source": [
    "Note: Approach to problem solving similar to here: \n",
    "https://dustinstansbury.github.io/theclevermachine/bias-variance-tradeoff\n",
    "        "
   ]
  },
  {
   "cell_type": "code",
   "execution_count": 772,
   "id": "b987f28e",
   "metadata": {},
   "outputs": [
    {
     "name": "stdout",
     "output_type": "stream",
     "text": [
      "Degree 1 Coefficients:\n",
      "[ 1.10495616 -0.55147045]\n",
      "Degree 3 Coefficients:\n",
      "[-0.01362327  0.29723794 -0.82676776  2.93037315]\n",
      "Degree 10 Coefficients:\n",
      "[ 2.54297730e-05 -1.59990299e-03  4.39182005e-02 -6.90153493e-01\n",
      "  6.84534004e+00 -4.45510227e+01  1.91630475e+02 -5.35222360e+02\n",
      "  9.25886271e+02 -8.94695341e+02  3.68966698e+02]\n"
     ]
    },
    {
     "data": {
      "text/plain": [
       "Text(0.5, 1.0, 'Problem 2.3')"
      ]
     },
     "execution_count": 772,
     "metadata": {},
     "output_type": "execute_result"
    },
    {
     "data": {
      "image/png": "[encoded data removed]",
      "text/plain": [
       "<Figure size 432x288 with 1 Axes>"
      ]
     },
     "metadata": {
      "needs_background": "light"
     },
     "output_type": "display_data"
    }
   ],
   "source": [
    "poly_degree = [1, 3, 10]\n",
    "coeff = {} #store the coefficients\n",
    "g_pred = {} #the predictions\n",
    "\n",
    "plt.plot(x_grid, f(x_grid), label = 'f(x)')\n",
    "plt.scatter(x_rand, sample_y, label='y')\n",
    "\n",
    "for i, degree in enumerate(poly_degree):\n",
    "    #we fit sampled data to polynomial function\n",
    "    coeff[degree] = np.polyfit(x_rand, sample_y, degree) #fit coefficients on sampled data\n",
    "    print(\"Degree %.f Coefficients:\" % degree)\n",
    "    print(coeff[degree])\n",
    "    g_pred[degree] = np.polyval(coeff[degree], np.sort(x_grid)) #make prediction\n",
    "    plt.plot(x_grid, g_pred[degree], label = '$g_{%.f}(x)$'%degree)\n",
    "\n",
    "plt.xlim([0, 10])\n",
    "plt.ylim([0, 10])\n",
    "plt.legend(fontsize=14)\n",
    "plt.title('Problem 2.3')"
   ]
  },
  {
   "cell_type": "markdown",
   "id": "c88139ef",
   "metadata": {},
   "source": [
    "## 2.3 ans:\n",
    "g1(x) is orange and it is underfitting. The estimator of degree 3, g3(x) also appear to be underfitting. Degree 10, g10(x) however seems to be overfitting. "
   ]
  },
  {
   "cell_type": "markdown",
   "id": "6718fba0",
   "metadata": {},
   "source": [
    "# Problem 2.4\n",
    "Generate 100 datasets (each of size 50) by randomly sampling from y. \n",
    "Partition each dataset into training and test set (80/20 split). Next fit the estimators of varying complexity, i.e., g1 , g2 , ....g15 using the training set for each dataset. Then calculate and display the squared bias, variance, and error on testing set for each of the estimators showing the tradeoff between bias and variance with model complexity. \n",
    "Can you identify the best model ?\n",
    "\n"
   ]
  },
  {
   "cell_type": "code",
   "execution_count": 777,
   "id": "91f963f8",
   "metadata": {},
   "outputs": [
    {
     "name": "stdout",
     "output_type": "stream",
     "text": [
      "best degree is: 7\n"
     ]
    },
    {
     "data": {
      "image/png": "[encoded data removed]",
      "text/plain": [
       "<Figure size 1008x720 with 2 Axes>"
      ]
     },
     "metadata": {
      "needs_background": "light"
     },
     "output_type": "display_data"
    }
   ],
   "source": [
    "np.random.seed(51)\n",
    "n_datasets = 1\n",
    "n_size = 50\n",
    "\n",
    "noise_std = 0.3\n",
    "\n",
    "poly_degree = [0, 1,2,3,4,5,6,7,8,9,10,11,12,13,14,15]\n",
    "\n",
    "def f(x):\n",
    "    return x + np.sin(1.5*x)\n",
    "\n",
    "def y(x, n):\n",
    "    return f(x) + np.random.randn(n) * noise_std\n",
    "\n",
    "def error(pred, actual):\n",
    "    return (pred-actual)**2\n",
    "\n",
    "poly_fit = defaultdict(list)\n",
    "g_pred_train = defaultdict(list)\n",
    "g_pred_test = defaultdict(list)\n",
    "\n",
    "error_train = defaultdict(list) \n",
    "error_test = defaultdict(list)\n",
    "\n",
    "#generate X values, split into test & train\n",
    "\n",
    "X = 10 * np.random.rand(n_size) \n",
    "x_train, x_test = train_test_split(X, test_size = 0.2)\n",
    "x_train = np.sort(x_train)\n",
    "x_test= np.sort(x_test)\n",
    "\n",
    "\n",
    "#for each dataset, fit to each degree\n",
    "#record predictions & error \n",
    "for idata in range(n_dataset):\n",
    "    \n",
    "    y_train = f(x_train) + np.random.randn(*x_train.shape) * noise_std\n",
    "    y_test = f(x_test) + np.random.randn(*x_test.shape) * noise_std\n",
    "    \n",
    "    #fit estimator into training data\n",
    "    for degree in poly_degree:\n",
    "        #get model coefficients\n",
    "        coeff = np.polyfit(x_train, y_train, degree)\n",
    "        \n",
    "        #predict on train\n",
    "        tmp_pred_train = np.polyval(coeff, x_train)\n",
    "        g_pred_train[degree].append(tmp_pred_train)\n",
    "        \n",
    "        #predict on test\n",
    "        tmp_pred_test = np.polyval(coeff, x_test)\n",
    "        g_pred_test[degree].append(tmp_pred_test)\n",
    "\n",
    "        #MSE error\n",
    "        error_train[degree].append(np.mean(error(tmp_pred_train, y_train)))\n",
    "        error_test[degree].append(np.mean(error(tmp_pred_test, y_test)))\n",
    "\n",
    "\n",
    "def estimator_variance(pred_test):\n",
    "    pred_test = np.array(pred_test) #100, 10 each\n",
    "    \n",
    "    #for the 10 test points, get mean pred of 100 datasets\n",
    "    avg_model_prediction = pred_test.mean(0) #E[g(x)]\n",
    "    \n",
    "    #E[(g(x) - E[g(x)])^2]\n",
    "    return np.mean((pred_test - avg_model_prediction)**2)\n",
    "\n",
    "def estimator_bias_sq(pred_test):\n",
    "    pred_test = np.array(pred_test) #100, 10 each\n",
    "    \n",
    "    #get mean of 100 for each of the 10\n",
    "    avg_model_prediction = pred_test.mean(0) #E[g(x)]\n",
    "    #E[g(x)] - f(x)\n",
    "    return np.mean((avg_model_prediction - f(x_test))**2)\n",
    "\n",
    "\n",
    "bias_sq = []\n",
    "variance = []\n",
    "complexity_train_error = []\n",
    "complexity_test_error = []\n",
    "#calculate bias and variance of each degree model\n",
    "for degree in poly_degree:\n",
    "    complexity_train_error.append(np.mean(error_train[degree]))\n",
    "    complexity_test_error.append(np.mean(error_test[degree]))\n",
    "    bias_sq.append(estimator_bias_sq(g_pred_test[degree]))\n",
    "    variance.append(estimator_variance(g_pred_test[degree]))\n",
    "\n",
    "\n",
    "poly_degree[np.argmin(complexity_test_error)]\n",
    "\n",
    "fig, axs = plt.subplots(1, 2, figsize=(14, 10))\n",
    "plt.sca(axs[0])\n",
    "plt.plot(poly_degree, bias_sq, label = 'bias^2')\n",
    "plt.plot(poly_degree, variance, label = 'variance')\n",
    "plt.plot(poly_degree, complexity_train_error, label = 'train error')\n",
    "plt.plot(poly_degree, complexity_test_error, label = 'test error')\n",
    "plt.xlabel('Degree')\n",
    "plt.title('Bias and Variance with Model Complexity')\n",
    "plt.legend()\n",
    "plt.ylim([0,15])\n",
    "\n",
    "plt.sca(axs[1])\n",
    "plt.plot(poly_degree, complexity_train_error, label = 'train error')\n",
    "plt.plot(poly_degree, complexity_test_error, label = 'test error')\n",
    "plt.title('Train and Test Error vs Model Complexity')\n",
    "plt.xlabel('Degree')\n",
    "plt.legend()\n",
    "plt.ylim([0,15])\n",
    "\n",
    "print('best degree is: %.f' %poly_degree[np.argmin(complexity_test_error)])"
   ]
  },
  {
   "cell_type": "markdown",
   "id": "8e2d5438",
   "metadata": {},
   "source": [
    "As we can see, with increasing model complexity, the variance of the model increases and the bias decreases. The model is over-fitting, as we see from the sharp increasing in test error rate. But in the simple models, when degree is less than 8, we see low variance. \n",
    "\n",
    "Taking a look at the train and test error, we see that degree 7 lead to the best model in terms of lowest test error. Through degree 6 is pretty comparable and has similar bias and variance. "
   ]
  },
  {
   "cell_type": "code",
   "execution_count": 793,
   "id": "d56aa9ef",
   "metadata": {},
   "outputs": [
    {
     "name": "stdout",
     "output_type": "stream",
     "text": [
      "Bias Square of Un-regularized model: 0.00021 \n",
      "Variance of unregularized model 6.906\n",
      "Train error of Un-regularized model: 0.06921 \n",
      "Test error of Un-regularized model: 6.99931 \n"
     ]
    }
   ],
   "source": [
    "print('Bias Square of Un-regularized model: %.5f ' % bias_sq[10])\n",
    "print('Variance of unregularized model %.3f' % variance[10])\n",
    "print('Train error of Un-regularized model: %.5f ' % complexity_train_error[10])\n",
    "print('Test error of Un-regularized model: %.5f ' % complexity_test_error[10])\n"
   ]
  },
  {
   "cell_type": "markdown",
   "id": "884a9141",
   "metadata": {},
   "source": [
    "# Problem 2.5"
   ]
  },
  {
   "cell_type": "code",
   "execution_count": 469,
   "id": "dcc97122",
   "metadata": {},
   "outputs": [],
   "source": [
    "from sklearn.preprocessing import PolynomialFeatures\n",
    "from sklearn.pipeline import Pipeline\n",
    "from sklearn.linear_model import Ridge"
   ]
  },
  {
   "cell_type": "code",
   "execution_count": 796,
   "id": "8fbb77ee",
   "metadata": {},
   "outputs": [
    {
     "name": "stdout",
     "output_type": "stream",
     "text": [
      "Test error of Un-regularized Model: 6.999 \n",
      "Test error of Ridge Model: 6.453 \n",
      "Variance of unregularized model 6.9060\n",
      "Variance of Ridge 0.1530\n",
      "Bias Sq of unregularized model 0.0002\n",
      "Bias Sq of Ridge 6.235\n"
     ]
    }
   ],
   "source": [
    "np.random.seed(51)\n",
    "n_datasets = 1\n",
    "n_size = 50\n",
    "\n",
    "noise_std = 0.3\n",
    "\n",
    "poly_degree = [0, 1,2,3,4,5,6,7,8,9,10]\n",
    "\n",
    "def f(x):\n",
    "    return x + np.sin(1.5*x)\n",
    "\n",
    "def y(x, n):\n",
    "    return f(x) + np.random.randn(n) * noise_std\n",
    "\n",
    "def error(pred, actual):\n",
    "    return (pred-actual)**2\n",
    "\n",
    "\n",
    "pred_train_unr = []\n",
    "pred_test_unr = []\n",
    "\n",
    "pred_train_ridge = []\n",
    "pred_test_ridge = []\n",
    "\n",
    "error_train_ridge = []\n",
    "error_train_unr = []\n",
    "error_test_ridge = []\n",
    "error_test_unr= []\n",
    "\n",
    "#generate X values, split into test & train\n",
    "\n",
    "X = 10 * np.random.rand(n_size) \n",
    "x_train, x_test = train_test_split(X, test_size = 0.2)\n",
    "\n",
    "x_train = np.sort(x_train)\n",
    "x_test = np.sort(x_test)\n",
    "degree = 10\n",
    "\n",
    "\n",
    "#record predictions & error \n",
    "for idata in range(n_dataset):\n",
    "    y_train = f(x_train) + np.random.randn(*x_train.shape) * noise_std\n",
    "    y_test = f(x_test) + np.random.randn(*x_test.shape) * noise_std\n",
    "    \n",
    "    #initialize ridge model\n",
    "    ridge_model = Pipeline([('poly', PolynomialFeatures(degree=2)),\n",
    "                      ('ridge', Ridge())])\n",
    "    \n",
    "    #get model coefficients for ridge and unregularized\n",
    "    ridge_model = ridge_model.fit(x_train[:, np.newaxis],y_train)\n",
    "    coeff_ridge = ridge_model.named_steps['ridge'].coef_ \n",
    "    coeff_unr = np.polyfit(x_train, y_train, degree)\n",
    "    \n",
    "    #predict on train- unregularized\n",
    "    tmp_pred_unr_train = np.polyval(coeff_unr, x_train)\n",
    "    pred_train_unr.append(tmp_pred_unr_train)\n",
    "        \n",
    "    #predict on train -rdge\n",
    "    tmp_pred_ridge_train = np.polyval(coeff_ridge, x_train)\n",
    "    pred_train_ridge.append(tmp_pred_ridge_train)\n",
    "        \n",
    "        \n",
    "    #predict on test- unregularized\n",
    "    tmp_pred_unr_test = np.polyval(coeff_unr, x_test)\n",
    "    pred_test_unr.append(tmp_pred_unr_test)\n",
    "        \n",
    "    #predict on test -rdge\n",
    "    tmp_pred_ridge_test = np.polyval(coeff_ridge, x_test)\n",
    "    pred_test_ridge.append(tmp_pred_ridge_test)\n",
    "        \n",
    "        \n",
    "    \n",
    "    #MSE error for each dataset and model\n",
    "    error_train_unr.append(np.mean(error(tmp_pred_unr_train, y_train)))\n",
    "    error_train_ridge.append(np.mean(error(tmp_pred_ridge_train, y_train)))\n",
    "    \n",
    "    error_test_unr.append(np.mean(error(tmp_pred_unr_test, y_test)))\n",
    "    error_test_ridge.append(np.mean(error(tmp_pred_ridge_test, y_test)))\n",
    "   \n",
    "        \n",
    "def estimator_variance(pred_test):\n",
    "    pred_test = np.array(pred_test) #100, 10 each\n",
    "    \n",
    "    #for the 10 test points, get mean pred of 100 datasets\n",
    "    avg_model_prediction = pred_test.mean(0) #E[g(x)]\n",
    "    \n",
    "    #E[(g(x) - E[g(x)])^2]\n",
    "    return np.mean((pred_test - avg_model_prediction)**2)\n",
    "\n",
    "def estimator_bias_sq(pred_test):\n",
    "    pred_test = np.array(pred_test) #100, 10 each\n",
    "    \n",
    "    #get mean of 100 for each of the 10\n",
    "    avg_model_prediction = pred_test.mean(0) #E[g(x)]\n",
    "    #E[g(x)] - f(x)\n",
    "    return np.mean((avg_model_prediction - f(x_test))**2)\n",
    " \n",
    "#calculate bias and variance of the two models\n",
    "print('Test error of Un-regularized Model: %.3f ' % np.mean(error_test_unr))\n",
    "print('Test error of Ridge Model: %.3f ' % np.mean(error_test_ridge))\n",
    "\n",
    "print('Variance of unregularized model %.4f' %estimator_variance(pred_test_unr))\n",
    "print('Variance of Ridge %.4f' %estimator_variance(pred_test_ridge))\n",
    "\n",
    "print('Bias Sq of unregularized model %.4f' %estimator_bias_sq(pred_test_unr))\n",
    "print('Bias Sq of Ridge %.3f' %estimator_bias_sq(pred_test_ridge))\n",
    "\n",
    "#print(len(pred_test_ridge), len(pred_test_unr) )\n",
    " "
   ]
  },
  {
   "cell_type": "markdown",
   "id": "005bdd95",
   "metadata": {},
   "source": [
    "The ridge regularized model has a higher bias, value of 6.235 compared to about 0. It also has a slightly lower mean squared error. \n",
    "The ridge regularized model has a lower variance, 0.15 compared to 6.9."
   ]
  },
  {
   "cell_type": "markdown",
   "id": "c9d46c5a",
   "metadata": {},
   "source": [
    "# Problem 3"
   ]
  },
  {
   "cell_type": "markdown",
   "id": "5a1f06f9",
   "metadata": {},
   "source": [
    "The first dataset is a blood transfusion dataset that classifies whether someone will donate blood or not in \n",
    "March 2007. It has 748 data points. It has 4 numerical features: number of months since last donation, total number of donation, total blood donated, months since first donation. It classifies into two categories, donated or not.\n",
    "\n",
    "The second dataset is Australian credit approval dataset. It has 690 data points.\n",
    "The features include: age, education, housing loan, last contact time, etc. \n",
    "It has 14 features, 6 of which are numeric, and 8 are categorical\n",
    "It has two classes- approved or not.\n",
    "https://www.openml.org/d/40509"
   ]
  },
  {
   "cell_type": "code",
   "execution_count": 746,
   "id": "375c1f30",
   "metadata": {},
   "outputs": [
    {
     "data": {
      "text/html": [
       "<div>\n",
       "<style scoped>\n",
       "    .dataframe tbody tr th:only-of-type {\n",
       "        vertical-align: middle;\n",
       "    }\n",
       "\n",
       "    .dataframe tbody tr th {\n",
       "        vertical-align: top;\n",
       "    }\n",
       "\n",
       "    .dataframe thead th {\n",
       "        text-align: right;\n",
       "    }\n",
       "</style>\n",
       "<table border=\"1\" class=\"dataframe\">\n",
       "  <thead>\n",
       "    <tr style=\"text-align: right;\">\n",
       "      <th></th>\n",
       "      <th>V1</th>\n",
       "      <th>V2</th>\n",
       "      <th>V3</th>\n",
       "      <th>V4</th>\n",
       "      <th>Class</th>\n",
       "    </tr>\n",
       "  </thead>\n",
       "  <tbody>\n",
       "    <tr>\n",
       "      <th>0</th>\n",
       "      <td>2</td>\n",
       "      <td>50</td>\n",
       "      <td>12500</td>\n",
       "      <td>98</td>\n",
       "      <td>2</td>\n",
       "    </tr>\n",
       "    <tr>\n",
       "      <th>1</th>\n",
       "      <td>0</td>\n",
       "      <td>13</td>\n",
       "      <td>3250</td>\n",
       "      <td>28</td>\n",
       "      <td>2</td>\n",
       "    </tr>\n",
       "    <tr>\n",
       "      <th>2</th>\n",
       "      <td>1</td>\n",
       "      <td>16</td>\n",
       "      <td>4000</td>\n",
       "      <td>35</td>\n",
       "      <td>2</td>\n",
       "    </tr>\n",
       "    <tr>\n",
       "      <th>3</th>\n",
       "      <td>2</td>\n",
       "      <td>20</td>\n",
       "      <td>5000</td>\n",
       "      <td>45</td>\n",
       "      <td>2</td>\n",
       "    </tr>\n",
       "    <tr>\n",
       "      <th>4</th>\n",
       "      <td>1</td>\n",
       "      <td>24</td>\n",
       "      <td>6000</td>\n",
       "      <td>77</td>\n",
       "      <td>1</td>\n",
       "    </tr>\n",
       "  </tbody>\n",
       "</table>\n",
       "</div>"
      ],
      "text/plain": [
       "   V1  V2     V3  V4  Class\n",
       "0   2  50  12500  98      2\n",
       "1   0  13   3250  28      2\n",
       "2   1  16   4000  35      2\n",
       "3   2  20   5000  45      2\n",
       "4   1  24   6000  77      1"
      ]
     },
     "execution_count": 746,
     "metadata": {},
     "output_type": "execute_result"
    }
   ],
   "source": [
    "import pandas as pd\n",
    "data = pd.read_csv('php0iVrYT.csv')\n",
    "data.head()"
   ]
  },
  {
   "cell_type": "code",
   "execution_count": 747,
   "id": "1b1e398f",
   "metadata": {},
   "outputs": [
    {
     "data": {
      "text/html": [
       "<div>\n",
       "<style scoped>\n",
       "    .dataframe tbody tr th:only-of-type {\n",
       "        vertical-align: middle;\n",
       "    }\n",
       "\n",
       "    .dataframe tbody tr th {\n",
       "        vertical-align: top;\n",
       "    }\n",
       "\n",
       "    .dataframe thead th {\n",
       "        text-align: right;\n",
       "    }\n",
       "</style>\n",
       "<table border=\"1\" class=\"dataframe\">\n",
       "  <thead>\n",
       "    <tr style=\"text-align: right;\">\n",
       "      <th></th>\n",
       "      <th>Y</th>\n",
       "      <th>X1</th>\n",
       "      <th>X2</th>\n",
       "      <th>X3</th>\n",
       "      <th>X4</th>\n",
       "      <th>X5</th>\n",
       "      <th>X6</th>\n",
       "      <th>X7</th>\n",
       "      <th>X8</th>\n",
       "      <th>X9</th>\n",
       "      <th>X10</th>\n",
       "      <th>X11</th>\n",
       "      <th>X12</th>\n",
       "      <th>X13</th>\n",
       "      <th>X14</th>\n",
       "    </tr>\n",
       "  </thead>\n",
       "  <tbody>\n",
       "    <tr>\n",
       "      <th>0</th>\n",
       "      <td>-1</td>\n",
       "      <td>1</td>\n",
       "      <td>-0.749474</td>\n",
       "      <td>-0.181429</td>\n",
       "      <td>0</td>\n",
       "      <td>-0.538462</td>\n",
       "      <td>-0.25</td>\n",
       "      <td>-0.888772</td>\n",
       "      <td>-1</td>\n",
       "      <td>-1</td>\n",
       "      <td>-1.000000</td>\n",
       "      <td>1</td>\n",
       "      <td>0</td>\n",
       "      <td>-0.90</td>\n",
       "      <td>-0.97576</td>\n",
       "    </tr>\n",
       "    <tr>\n",
       "      <th>1</th>\n",
       "      <td>-1</td>\n",
       "      <td>-1</td>\n",
       "      <td>-0.731729</td>\n",
       "      <td>-0.500000</td>\n",
       "      <td>0</td>\n",
       "      <td>0.076923</td>\n",
       "      <td>-0.25</td>\n",
       "      <td>-0.988421</td>\n",
       "      <td>-1</td>\n",
       "      <td>-1</td>\n",
       "      <td>-1.000000</td>\n",
       "      <td>-1</td>\n",
       "      <td>0</td>\n",
       "      <td>-0.84</td>\n",
       "      <td>-1.00000</td>\n",
       "    </tr>\n",
       "    <tr>\n",
       "      <th>2</th>\n",
       "      <td>-1</td>\n",
       "      <td>-1</td>\n",
       "      <td>-0.523910</td>\n",
       "      <td>-0.875000</td>\n",
       "      <td>-1</td>\n",
       "      <td>-0.538462</td>\n",
       "      <td>-0.25</td>\n",
       "      <td>-0.912281</td>\n",
       "      <td>-1</td>\n",
       "      <td>-1</td>\n",
       "      <td>-1.000000</td>\n",
       "      <td>1</td>\n",
       "      <td>0</td>\n",
       "      <td>-0.72</td>\n",
       "      <td>-1.00000</td>\n",
       "    </tr>\n",
       "    <tr>\n",
       "      <th>3</th>\n",
       "      <td>1</td>\n",
       "      <td>-1</td>\n",
       "      <td>-0.761805</td>\n",
       "      <td>-0.178571</td>\n",
       "      <td>-1</td>\n",
       "      <td>-0.384615</td>\n",
       "      <td>-0.50</td>\n",
       "      <td>-1.000000</td>\n",
       "      <td>1</td>\n",
       "      <td>1</td>\n",
       "      <td>-0.671642</td>\n",
       "      <td>1</td>\n",
       "      <td>0</td>\n",
       "      <td>-1.00</td>\n",
       "      <td>-1.00000</td>\n",
       "    </tr>\n",
       "    <tr>\n",
       "      <th>4</th>\n",
       "      <td>1</td>\n",
       "      <td>1</td>\n",
       "      <td>-0.806917</td>\n",
       "      <td>-0.416429</td>\n",
       "      <td>0</td>\n",
       "      <td>-0.230769</td>\n",
       "      <td>-0.25</td>\n",
       "      <td>-0.862456</td>\n",
       "      <td>1</td>\n",
       "      <td>1</td>\n",
       "      <td>-0.582090</td>\n",
       "      <td>-1</td>\n",
       "      <td>0</td>\n",
       "      <td>-0.94</td>\n",
       "      <td>-0.99684</td>\n",
       "    </tr>\n",
       "  </tbody>\n",
       "</table>\n",
       "</div>"
      ],
      "text/plain": [
       "   Y  X1        X2        X3  X4        X5    X6        X7  X8  X9       X10  \\\n",
       "0 -1   1 -0.749474 -0.181429   0 -0.538462 -0.25 -0.888772  -1  -1 -1.000000   \n",
       "1 -1  -1 -0.731729 -0.500000   0  0.076923 -0.25 -0.988421  -1  -1 -1.000000   \n",
       "2 -1  -1 -0.523910 -0.875000  -1 -0.538462 -0.25 -0.912281  -1  -1 -1.000000   \n",
       "3  1  -1 -0.761805 -0.178571  -1 -0.384615 -0.50 -1.000000   1   1 -0.671642   \n",
       "4  1   1 -0.806917 -0.416429   0 -0.230769 -0.25 -0.862456   1   1 -0.582090   \n",
       "\n",
       "   X11  X12   X13      X14  \n",
       "0    1    0 -0.90 -0.97576  \n",
       "1   -1    0 -0.84 -1.00000  \n",
       "2    1    0 -0.72 -1.00000  \n",
       "3    1    0 -1.00 -1.00000  \n",
       "4   -1    0 -0.94 -0.99684  "
      ]
     },
     "execution_count": 747,
     "metadata": {},
     "output_type": "execute_result"
    }
   ],
   "source": [
    "data2= pd.read_csv('phpjP8PU3.csv')\n",
    "data2.head()"
   ]
  },
  {
   "cell_type": "code",
   "execution_count": 748,
   "id": "dde2c348",
   "metadata": {},
   "outputs": [
    {
     "data": {
      "text/plain": [
       "748"
      ]
     },
     "execution_count": 748,
     "metadata": {},
     "output_type": "execute_result"
    }
   ],
   "source": [
    "len(data)"
   ]
  },
  {
   "cell_type": "code",
   "execution_count": 749,
   "id": "eb599dbc",
   "metadata": {},
   "outputs": [
    {
     "data": {
      "text/plain": [
       "0      2\n",
       "1      2\n",
       "2      2\n",
       "3      2\n",
       "4      1\n",
       "      ..\n",
       "743    1\n",
       "744    1\n",
       "745    1\n",
       "746    1\n",
       "747    1\n",
       "Name: Class, Length: 748, dtype: int64"
      ]
     },
     "execution_count": 749,
     "metadata": {},
     "output_type": "execute_result"
    }
   ],
   "source": [
    "data['Class']"
   ]
  },
  {
   "cell_type": "code",
   "execution_count": 750,
   "id": "c09763e1",
   "metadata": {},
   "outputs": [],
   "source": [
    "X= data.drop('Class', axis= 1)\n",
    "y= data['Class']\n",
    "\n",
    "X2= data2.drop('Y', axis= 1)\n",
    "y2= data2['Y']"
   ]
  },
  {
   "cell_type": "code",
   "execution_count": 239,
   "id": "b7f2d95a",
   "metadata": {},
   "outputs": [
    {
     "data": {
      "text/plain": [
       "690"
      ]
     },
     "execution_count": 239,
     "metadata": {},
     "output_type": "execute_result"
    }
   ],
   "source": [
    "len(data2)"
   ]
  },
  {
   "cell_type": "code",
   "execution_count": 751,
   "id": "982fe040",
   "metadata": {},
   "outputs": [
    {
     "data": {
      "text/html": [
       "<div>\n",
       "<style scoped>\n",
       "    .dataframe tbody tr th:only-of-type {\n",
       "        vertical-align: middle;\n",
       "    }\n",
       "\n",
       "    .dataframe tbody tr th {\n",
       "        vertical-align: top;\n",
       "    }\n",
       "\n",
       "    .dataframe thead th {\n",
       "        text-align: right;\n",
       "    }\n",
       "</style>\n",
       "<table border=\"1\" class=\"dataframe\">\n",
       "  <thead>\n",
       "    <tr style=\"text-align: right;\">\n",
       "      <th></th>\n",
       "      <th>V1</th>\n",
       "      <th>V2</th>\n",
       "      <th>V3</th>\n",
       "      <th>V4</th>\n",
       "    </tr>\n",
       "  </thead>\n",
       "  <tbody>\n",
       "    <tr>\n",
       "      <th>97</th>\n",
       "      <td>4</td>\n",
       "      <td>9</td>\n",
       "      <td>2250</td>\n",
       "      <td>38</td>\n",
       "    </tr>\n",
       "    <tr>\n",
       "      <th>516</th>\n",
       "      <td>3</td>\n",
       "      <td>5</td>\n",
       "      <td>1250</td>\n",
       "      <td>12</td>\n",
       "    </tr>\n",
       "    <tr>\n",
       "      <th>156</th>\n",
       "      <td>2</td>\n",
       "      <td>1</td>\n",
       "      <td>250</td>\n",
       "      <td>2</td>\n",
       "    </tr>\n",
       "    <tr>\n",
       "      <th>395</th>\n",
       "      <td>16</td>\n",
       "      <td>10</td>\n",
       "      <td>2500</td>\n",
       "      <td>89</td>\n",
       "    </tr>\n",
       "    <tr>\n",
       "      <th>732</th>\n",
       "      <td>23</td>\n",
       "      <td>1</td>\n",
       "      <td>250</td>\n",
       "      <td>23</td>\n",
       "    </tr>\n",
       "  </tbody>\n",
       "</table>\n",
       "</div>"
      ],
      "text/plain": [
       "     V1  V2    V3  V4\n",
       "97    4   9  2250  38\n",
       "516   3   5  1250  12\n",
       "156   2   1   250   2\n",
       "395  16  10  2500  89\n",
       "732  23   1   250  23"
      ]
     },
     "execution_count": 751,
     "metadata": {},
     "output_type": "execute_result"
    }
   ],
   "source": [
    "from sklearn.model_selection import train_test_split\n",
    "\n",
    "#dataset 1\n",
    "X_train, X_test, y_train, y_test = train_test_split(X,y, test_size=0.2, random_state=0)\n",
    "X_train.head()"
   ]
  },
  {
   "cell_type": "code",
   "execution_count": 752,
   "id": "dbc98d44",
   "metadata": {},
   "outputs": [
    {
     "data": {
      "text/html": [
       "<div>\n",
       "<style scoped>\n",
       "    .dataframe tbody tr th:only-of-type {\n",
       "        vertical-align: middle;\n",
       "    }\n",
       "\n",
       "    .dataframe tbody tr th {\n",
       "        vertical-align: top;\n",
       "    }\n",
       "\n",
       "    .dataframe thead th {\n",
       "        text-align: right;\n",
       "    }\n",
       "</style>\n",
       "<table border=\"1\" class=\"dataframe\">\n",
       "  <thead>\n",
       "    <tr style=\"text-align: right;\">\n",
       "      <th></th>\n",
       "      <th>X1</th>\n",
       "      <th>X2</th>\n",
       "      <th>X3</th>\n",
       "      <th>X4</th>\n",
       "      <th>X5</th>\n",
       "      <th>X6</th>\n",
       "      <th>X7</th>\n",
       "      <th>X8</th>\n",
       "      <th>X9</th>\n",
       "      <th>X10</th>\n",
       "      <th>X11</th>\n",
       "      <th>X12</th>\n",
       "      <th>X13</th>\n",
       "      <th>X14</th>\n",
       "    </tr>\n",
       "  </thead>\n",
       "  <tbody>\n",
       "    <tr>\n",
       "      <th>127</th>\n",
       "      <td>1</td>\n",
       "      <td>-0.543759</td>\n",
       "      <td>-0.973214</td>\n",
       "      <td>0</td>\n",
       "      <td>0.076923</td>\n",
       "      <td>-0.25</td>\n",
       "      <td>-0.979649</td>\n",
       "      <td>-1</td>\n",
       "      <td>-1</td>\n",
       "      <td>-1.0</td>\n",
       "      <td>-1</td>\n",
       "      <td>0</td>\n",
       "      <td>-0.78</td>\n",
       "      <td>-0.9972</td>\n",
       "    </tr>\n",
       "    <tr>\n",
       "      <th>391</th>\n",
       "      <td>1</td>\n",
       "      <td>-0.736842</td>\n",
       "      <td>-0.178571</td>\n",
       "      <td>-1</td>\n",
       "      <td>-0.076923</td>\n",
       "      <td>-0.25</td>\n",
       "      <td>-0.894737</td>\n",
       "      <td>-1</td>\n",
       "      <td>-1</td>\n",
       "      <td>-1.0</td>\n",
       "      <td>1</td>\n",
       "      <td>0</td>\n",
       "      <td>-1.00</td>\n",
       "      <td>-0.9200</td>\n",
       "    </tr>\n",
       "    <tr>\n",
       "      <th>21</th>\n",
       "      <td>-1</td>\n",
       "      <td>-0.836993</td>\n",
       "      <td>-0.958214</td>\n",
       "      <td>-1</td>\n",
       "      <td>-0.230769</td>\n",
       "      <td>-0.25</td>\n",
       "      <td>-0.958947</td>\n",
       "      <td>1</td>\n",
       "      <td>-1</td>\n",
       "      <td>-1.0</td>\n",
       "      <td>1</td>\n",
       "      <td>0</td>\n",
       "      <td>-0.84</td>\n",
       "      <td>-1.0000</td>\n",
       "    </tr>\n",
       "    <tr>\n",
       "      <th>549</th>\n",
       "      <td>1</td>\n",
       "      <td>-0.082707</td>\n",
       "      <td>-0.214286</td>\n",
       "      <td>-1</td>\n",
       "      <td>-0.846154</td>\n",
       "      <td>-0.25</td>\n",
       "      <td>-0.894737</td>\n",
       "      <td>1</td>\n",
       "      <td>-1</td>\n",
       "      <td>-1.0</td>\n",
       "      <td>-1</td>\n",
       "      <td>-1</td>\n",
       "      <td>-1.00</td>\n",
       "      <td>-1.0000</td>\n",
       "    </tr>\n",
       "    <tr>\n",
       "      <th>339</th>\n",
       "      <td>1</td>\n",
       "      <td>-0.593985</td>\n",
       "      <td>-0.955357</td>\n",
       "      <td>0</td>\n",
       "      <td>-0.230769</td>\n",
       "      <td>-0.25</td>\n",
       "      <td>-0.968070</td>\n",
       "      <td>1</td>\n",
       "      <td>-1</td>\n",
       "      <td>-1.0</td>\n",
       "      <td>1</td>\n",
       "      <td>0</td>\n",
       "      <td>-0.80</td>\n",
       "      <td>-1.0000</td>\n",
       "    </tr>\n",
       "  </tbody>\n",
       "</table>\n",
       "</div>"
      ],
      "text/plain": [
       "     X1        X2        X3  X4        X5    X6        X7  X8  X9  X10  X11  \\\n",
       "127   1 -0.543759 -0.973214   0  0.076923 -0.25 -0.979649  -1  -1 -1.0   -1   \n",
       "391   1 -0.736842 -0.178571  -1 -0.076923 -0.25 -0.894737  -1  -1 -1.0    1   \n",
       "21   -1 -0.836993 -0.958214  -1 -0.230769 -0.25 -0.958947   1  -1 -1.0    1   \n",
       "549   1 -0.082707 -0.214286  -1 -0.846154 -0.25 -0.894737   1  -1 -1.0   -1   \n",
       "339   1 -0.593985 -0.955357   0 -0.230769 -0.25 -0.968070   1  -1 -1.0    1   \n",
       "\n",
       "     X12   X13     X14  \n",
       "127    0 -0.78 -0.9972  \n",
       "391    0 -1.00 -0.9200  \n",
       "21     0 -0.84 -1.0000  \n",
       "549   -1 -1.00 -1.0000  \n",
       "339    0 -0.80 -1.0000  "
      ]
     },
     "execution_count": 752,
     "metadata": {},
     "output_type": "execute_result"
    }
   ],
   "source": [
    "#dataset 2\n",
    "X2_train, X2_test, y2_train, y2_test = train_test_split(X2,y2, test_size=0.2, random_state=0)\n",
    "X2_train.head()"
   ]
  },
  {
   "cell_type": "code",
   "execution_count": 753,
   "id": "8eb957ec",
   "metadata": {},
   "outputs": [
    {
     "name": "stdout",
     "output_type": "stream",
     "text": [
      "598 150 598\n"
     ]
    }
   ],
   "source": [
    "print(len(X_train),len(X_test), len(y_train))"
   ]
  },
  {
   "cell_type": "code",
   "execution_count": 135,
   "id": "41413c35",
   "metadata": {},
   "outputs": [],
   "source": [
    "from sklearn.ensemble import RandomForestClassifier\n",
    "from collections import defaultdict\n",
    "from sklearn.metrics import classification_report\n",
    "from sklearn.metrics import accuracy_score"
   ]
  },
  {
   "cell_type": "markdown",
   "id": "0cf20dc0",
   "metadata": {},
   "source": [
    "Generate 10 subset of training data, each with 10%..100% of training data"
   ]
  },
  {
   "cell_type": "code",
   "execution_count": 754,
   "id": "51b7ff02",
   "metadata": {},
   "outputs": [
    {
     "name": "stdout",
     "output_type": "stream",
     "text": [
      "60 60\n",
      "120 120\n",
      "179 179\n",
      "239 239\n",
      "299 299\n",
      "359 359\n",
      "419 419\n",
      "478 478\n",
      "538 538\n",
      "598 598\n"
     ]
    }
   ],
   "source": [
    "##dataset 1, Random Forest Classifier\n",
    "train_frac = [i/10.0 for i in range(1,11)]\n",
    "\n",
    "train_time = []\n",
    "train_accuracy = []\n",
    "test_accuracy = []\n",
    "\n",
    "for f in train_frac:\n",
    "    X_subt = X_train.sample(frac = f)\n",
    "    y_subt = y_train[X_subt.index]\n",
    "    print(len(X_subt), len(y_subt))\n",
    "    start = time.time()\n",
    "    rf = RandomForestClassifier()\n",
    "    rf.fit(X_subt, y_subt)\n",
    "    rf_pred_train = rf.predict(X_subt)\n",
    "    rf_pred = rf.predict(X_test)\n",
    "    end = time.time()\n",
    "    \n",
    "    train_time.append(end - start) \n",
    "    train_accuracy.append(accuracy_score(y_subt, rf_pred_train))\n",
    "    test_accuracy.append(accuracy_score(y_test, rf_pred))\n",
    "    "
   ]
  },
  {
   "cell_type": "code",
   "execution_count": 755,
   "id": "f8ec6761",
   "metadata": {},
   "outputs": [
    {
     "name": "stdout",
     "output_type": "stream",
     "text": [
      "55 55\n",
      "110 110\n",
      "166 166\n",
      "221 221\n",
      "276 276\n",
      "331 331\n",
      "386 386\n",
      "442 442\n",
      "497 497\n",
      "552 552\n"
     ]
    }
   ],
   "source": [
    "#dataset 2, Random Forest Classifier\n",
    "train_frac = [i/10.0 for i in range(1,11)]\n",
    "\n",
    "train2_time = []\n",
    "train2_accuracy = []\n",
    "test2_accuracy = []\n",
    "\n",
    "for f in train_frac:\n",
    "    X2_subt = X2_train.sample(frac = f)\n",
    "    y2_subt = y2_train[X2_subt.index]\n",
    "    print(len(X2_subt), len(y2_subt))\n",
    "    start = time.time()\n",
    "    rf2 = RandomForestClassifier()\n",
    "    rf2.fit(X2_subt, y2_subt)\n",
    "    rf2_pred_train = rf2.predict(X2_subt)\n",
    "    rf2_pred = rf2.predict(X2_test)\n",
    "    end = time.time()\n",
    "    \n",
    "    train2_time.append(end - start) \n",
    "    train2_accuracy.append(accuracy_score(y2_subt, rf2_pred_train))\n",
    "    test2_accuracy.append(accuracy_score(y2_test, rf2_pred))\n",
    "    "
   ]
  },
  {
   "cell_type": "markdown",
   "id": "f27f9998",
   "metadata": {},
   "source": [
    "# Gradient Boosting Classifier"
   ]
  },
  {
   "cell_type": "code",
   "execution_count": 756,
   "id": "7419adcf",
   "metadata": {},
   "outputs": [
    {
     "name": "stdout",
     "output_type": "stream",
     "text": [
      "              precision    recall  f1-score   support\n",
      "\n",
      "           1       0.79      0.91      0.84       109\n",
      "           2       0.58      0.34      0.43        41\n",
      "\n",
      "    accuracy                           0.75       150\n",
      "   macro avg       0.68      0.62      0.64       150\n",
      "weighted avg       0.73      0.75      0.73       150\n",
      "\n"
     ]
    }
   ],
   "source": [
    "from sklearn.ensemble import GradientBoostingClassifier\n",
    "gb = GradientBoostingClassifier(learning_rate = 0.1)\n",
    "gb.fit(X_train, y_train)\n",
    "gb_pred = gb.predict(X_test)\n",
    "print(classification_report(y_test, gb_pred))"
   ]
  },
  {
   "cell_type": "code",
   "execution_count": 757,
   "id": "0a02c8a5",
   "metadata": {},
   "outputs": [],
   "source": [
    "#dataset 1\n",
    "\n",
    "train_frac = [i/10.0 for i in range(1,11)]\n",
    "\n",
    "trainb_time = []\n",
    "trainb_accuracy = []\n",
    "testb_accuracy = []\n",
    "\n",
    "for f in train_frac:\n",
    "    Xb_subt = X_train.sample(frac = f)\n",
    "    yb_subt = y_train[Xb_subt.index]\n",
    "    \n",
    "    \n",
    "    start = time.time()\n",
    "    gb = GradientBoostingClassifier(learning_rate = 0.1)\n",
    "    gb.fit(Xb_subt, yb_subt)\n",
    "    gb_pred_train = gb.predict(Xb_subt)\n",
    "    gb_pred = gb.predict(X_test)\n",
    "    end = time.time()\n",
    "    \n",
    "    trainb_time.append(end - start) \n",
    "    trainb_accuracy.append(accuracy_score(yb_subt, gb_pred_train))\n",
    "    testb_accuracy.append(accuracy_score(y_test, gb_pred))\n"
   ]
  },
  {
   "cell_type": "code",
   "execution_count": 758,
   "id": "60334e04",
   "metadata": {},
   "outputs": [],
   "source": [
    "#dataset 2\n",
    "train_frac = [i/10.0 for i in range(1,11)]\n",
    "\n",
    "train2b_time = []\n",
    "train2b_accuracy = []\n",
    "test2b_accuracy = []\n",
    "\n",
    "for f in train_frac:\n",
    "    X2_subt = X2_train.sample(frac = f)\n",
    "    y2_subt = y2_train[X2_subt.index]\n",
    "    \n",
    "    start = time.time()\n",
    "    gb2 = GradientBoostingClassifier(learning_rate = 0.1)\n",
    "    gb2.fit(X2_subt, y2_subt)\n",
    "    gb2_pred_train = gb2.predict(X2_subt)\n",
    "    gb2_pred = gb2.predict(X2_test)\n",
    "    end = time.time()\n",
    "    \n",
    "    train2b_time.append(end - start) \n",
    "    train2b_accuracy.append(accuracy_score(y2_subt, gb2_pred_train))\n",
    "    test2b_accuracy.append(accuracy_score(y2_test, gb2_pred))\n"
   ]
  },
  {
   "cell_type": "markdown",
   "id": "163f89f5",
   "metadata": {},
   "source": [
    "# Problem 3.2 Plots"
   ]
  },
  {
   "cell_type": "code",
   "execution_count": 759,
   "id": "d28b6c1c",
   "metadata": {},
   "outputs": [
    {
     "data": {
      "text/plain": [
       "<matplotlib.legend.Legend at 0x7fb6d5d42f40>"
      ]
     },
     "execution_count": 759,
     "metadata": {},
     "output_type": "execute_result"
    },
    {
     "data": {
      "image/png": "[encoded data removed]",
      "text/plain": [
       "<Figure size 432x288 with 1 Axes>"
      ]
     },
     "metadata": {
      "needs_background": "light"
     },
     "output_type": "display_data"
    }
   ],
   "source": [
    "plt.plot(train_frac, train_time, label = 'Random Forest')\n",
    "plt.plot(train_frac, trainb_time, label = 'GB')\n",
    "plt.title('Training size vs Train Time, dataset1')\n",
    "plt.legend()"
   ]
  },
  {
   "cell_type": "code",
   "execution_count": 292,
   "id": "15be2d63",
   "metadata": {},
   "outputs": [
    {
     "data": {
      "text/plain": [
       "<matplotlib.legend.Legend at 0x7fb6b1037c70>"
      ]
     },
     "execution_count": 292,
     "metadata": {},
     "output_type": "execute_result"
    },
    {
     "data": {
      "image/png": "[encoded data removed]",
      "text/plain": [
       "<Figure size 432x288 with 1 Axes>"
      ]
     },
     "metadata": {
      "needs_background": "light"
     },
     "output_type": "display_data"
    }
   ],
   "source": [
    "plt.plot(train_frac, test_accuracy, label = 'Random Forest')\n",
    "plt.plot(train_frac, testb_accuracy, label = 'GB')\n",
    "plt.title('Training size vs Test Accuracy, dataset1')\n",
    "plt.legend()"
   ]
  },
  {
   "cell_type": "code",
   "execution_count": 293,
   "id": "f7d6614a",
   "metadata": {},
   "outputs": [
    {
     "data": {
      "text/plain": [
       "<matplotlib.legend.Legend at 0x7fb6c12f5460>"
      ]
     },
     "execution_count": 293,
     "metadata": {},
     "output_type": "execute_result"
    },
    {
     "data": {
      "image/png": "[encoded data removed]",
      "text/plain": [
       "<Figure size 432x288 with 1 Axes>"
      ]
     },
     "metadata": {
      "needs_background": "light"
     },
     "output_type": "display_data"
    }
   ],
   "source": [
    "plt.plot(train_frac, train2_time, label = 'Random Forest')\n",
    "plt.plot(train_frac, train2b_time, label = 'GB')\n",
    "plt.title('Training size vs Train Time, dataset2')\n",
    "plt.legend()"
   ]
  },
  {
   "cell_type": "markdown",
   "id": "a29733ae",
   "metadata": {},
   "source": [
    "Train: For dataset 1, both models take about the same time to train. But for dataset 2, Random Forest takes longer to train than GB model\n",
    "\n",
    "Accuracy:\n",
    "In dataset 1, we see that the gradient boosting algorithm has a steady gain in test accuracy\n",
    "The random forest model seems to level out accuracy gain by around 0.4.\n",
    "Both of the model lose test accuracy above 0.9, this is likely due to over-fitting."
   ]
  },
  {
   "cell_type": "code",
   "execution_count": 294,
   "id": "56f19862",
   "metadata": {},
   "outputs": [
    {
     "data": {
      "text/plain": [
       "<matplotlib.legend.Legend at 0x7fb6c194f1c0>"
      ]
     },
     "execution_count": 294,
     "metadata": {},
     "output_type": "execute_result"
    },
    {
     "data": {
      "image/png": "[encoded data removed]",
      "text/plain": [
       "<Figure size 432x288 with 1 Axes>"
      ]
     },
     "metadata": {
      "needs_background": "light"
     },
     "output_type": "display_data"
    }
   ],
   "source": [
    "plt.plot(train_frac, test2_accuracy, label = 'Random Forest')\n",
    "plt.plot(train_frac, test2b_accuracy, label = 'GB')\n",
    "plt.title('Training size vs Test Accuracy, dataset2')\n",
    "plt.legend()"
   ]
  },
  {
   "cell_type": "markdown",
   "id": "86bd504a",
   "metadata": {},
   "source": [
    "# Problem 3.3\n",
    "Compare the performance of classifiers in terms of training time and accuracy and write 3 main observations. Which gives better accuracy ? Which has shorter training time \n",
    "\n",
    "Train time: Overall, train time increases as training size increases. <br />\n",
    "\n",
    "For dataset 1, both models take about the same time to train. But for dataset 2, Random Forest takes longer to train than GB model\n",
    "\n",
    "So overall, GB has shorter training time.\n",
    "\n",
    "Accuracy: models seem to benefit from half train size, but tend to level out after.\n",
    "\n",
    "As for accuracy, we see that RF gives better accuracy on data 1 and data 2. \n",
    "\n",
    "RF seems to be able to achieve higher accuracy at an earlier point in terms of data size on dataset2. "
   ]
  },
  {
   "cell_type": "markdown",
   "id": "e2f4f754",
   "metadata": {},
   "source": [
    "# Problem 4"
   ]
  },
  {
   "cell_type": "markdown",
   "id": "7b46150b",
   "metadata": {},
   "source": [
    "1. Does true negative matter for both ROC and PR curve ? Argue why each point on ROC curve corresponds to a unique point on PR curve ?\n",
    "\n",
    "The true negative matters for the ROC curve, as it's part of the false positive rate denominator. But true negative is not part of the PR curve.\n",
    "\n",
    "Each point in ROC correspond to a unique confusion matrix. Although it may seem that since ROC doesn't include the TN, there could be multiple options in PR curve for one point in ROC. But when the dataset is fixed, the set of possible confusion matrices are fixed. If we take a datapoint from PR curve, we have three out of four entries of the confusion matrix.  So with a fixed number of positive & negative examples, there is only one option for the TN. This means that we can determine the TN and thus map that datapoint to the ROC curve. So each point on ROC correspond to a unique point on PR curve. \n",
    "\n",
    "The only exception is when recall is 0 because we can't get the false positive, so we can't get the unique confusion matrix."
   ]
  },
  {
   "cell_type": "markdown",
   "id": "260c2d45",
   "metadata": {},
   "source": [
    "Select one OpenML dataset with 2 output classes. \n",
    "Use two binary classifiers (Adaboost and Logistic regression) \n",
    "and create ROC and PR curves for each of them. \n",
    "You will have two figures: one containing two ROC and other containing two PR curves.\n",
    "Show the point where an all positive classifier lies in the ROC and PR curves. \n",
    "An all positive classifier classifies all the samples as positive. (10)\n"
   ]
  },
  {
   "cell_type": "code",
   "execution_count": 352,
   "id": "cecadd0e",
   "metadata": {},
   "outputs": [],
   "source": [
    "#dataset = pd.read_csv('php0iVrYT.csv')\n",
    "dataset = pd.read_csv('phpjP8PU3.csv')\n",
    "dataset.head()\n",
    "X4= dataset.drop('Y', axis= 1)\n",
    "y4= dataset['Y']"
   ]
  },
  {
   "cell_type": "code",
   "execution_count": 460,
   "id": "2b7dc335",
   "metadata": {},
   "outputs": [
    {
     "data": {
      "text/plain": [
       "0.4449275362318841"
      ]
     },
     "execution_count": 460,
     "metadata": {},
     "output_type": "execute_result"
    }
   ],
   "source": [
    "len(y4[y4 ==1])/len(y4)"
   ]
  },
  {
   "cell_type": "code",
   "execution_count": 354,
   "id": "7f7d8058",
   "metadata": {},
   "outputs": [],
   "source": [
    "from sklearn.ensemble import AdaBoostClassifier\n",
    "from sklearn.linear_model import LogisticRegression"
   ]
  },
  {
   "cell_type": "code",
   "execution_count": 536,
   "id": "4323aab8",
   "metadata": {},
   "outputs": [],
   "source": [
    "X4_train, X4_test, y4_train, y4_test = train_test_split(X4,y4, test_size=0.2, random_state=0)"
   ]
  },
  {
   "cell_type": "code",
   "execution_count": 561,
   "id": "02305933",
   "metadata": {},
   "outputs": [
    {
     "name": "stdout",
     "output_type": "stream",
     "text": [
      "552 138 138 65\n"
     ]
    }
   ],
   "source": [
    "print(len(X4_train), len(X4_test), len(y4_test), len(y4_test[y4_test==1]))"
   ]
  },
  {
   "cell_type": "code",
   "execution_count": 551,
   "id": "15c4dcd2",
   "metadata": {},
   "outputs": [],
   "source": [
    "lg = LogisticRegression()\n",
    "lg.fit(X4_train, y4_train)\n",
    "lg_pred_a = lg.predict(X4_test)\n",
    "lg_pred = lg.predict_proba(X4_test)[:,1]\n"
   ]
  },
  {
   "cell_type": "code",
   "execution_count": 562,
   "id": "59d8bf83",
   "metadata": {},
   "outputs": [
    {
     "data": {
      "text/plain": [
       "64"
      ]
     },
     "execution_count": 562,
     "metadata": {},
     "output_type": "execute_result"
    }
   ],
   "source": [
    "y4_train\n",
    "len(lg_pred_a[lg_pred_a ==1])"
   ]
  },
  {
   "cell_type": "code",
   "execution_count": 539,
   "id": "6e6ada09",
   "metadata": {},
   "outputs": [],
   "source": [
    "ab = AdaBoostClassifier()\n",
    "ab.fit(X4_train, y4_train)\n",
    "ab_pred_a = ab.predict(X4_test)\n",
    "ab_pred = ab.predict_proba(X4_test)[:,1]\n",
    "\n",
    "#print(accuracy_score(y4_test, ab_pred))"
   ]
  },
  {
   "cell_type": "code",
   "execution_count": 550,
   "id": "0eac25eb",
   "metadata": {},
   "outputs": [
    {
     "name": "stdout",
     "output_type": "stream",
     "text": [
      "138 138 65 0\n"
     ]
    }
   ],
   "source": [
    "print(len(lg_pred), len(ab_pred), len(y4_test[y4_test ==1]), len(lg_pred[lg_pred ==1]))"
   ]
  },
  {
   "cell_type": "code",
   "execution_count": 544,
   "id": "3d92d126",
   "metadata": {},
   "outputs": [],
   "source": [
    "from sklearn.metrics import roc_curve\n",
    "from sklearn.metrics import roc_auc_score\n",
    "from sklearn.metrics import precision_recall_curve\n",
    "from sklearn.metrics import f1_score\n",
    "from sklearn.metrics import auc\n",
    "from sklearn.metrics import confusion_matrix"
   ]
  },
  {
   "cell_type": "code",
   "execution_count": 699,
   "id": "3c3a18f6",
   "metadata": {},
   "outputs": [
    {
     "name": "stdout",
     "output_type": "stream",
     "text": [
      "Logistic LG : ROC AUC=0.932\n"
     ]
    },
    {
     "data": {
      "image/png": "[encoded data removed]",
      "text/plain": [
       "<Figure size 432x288 with 1 Axes>"
      ]
     },
     "metadata": {
      "needs_background": "light"
     },
     "output_type": "display_data"
    }
   ],
   "source": [
    "#lg: logistic regression, ab- AdaBoost\n",
    "lg_auc = roc_auc_score(y4_test, lg_pred)\n",
    "ab_auc = roc_auc_score(y4_test, ab_pred)\n",
    "\n",
    "print('Logistic LG : ROC AUC=%.3f' % (lg_auc))\n",
    "# calculate roc curves\n",
    "lg_fpr, lg_tpr, _ = roc_curve(y4_test, lg_pred)\n",
    "lg_fnr = 1- lg_fpr\n",
    "\n",
    "ab_fpr, ab_tpr, _ = roc_curve(y4_test, ab_pred)\n",
    "ab_fnr = 1- ab_fpr\n",
    "\n",
    "plt.plot(lg_fpr, lg_tpr,  label='Logistic')\n",
    "plt.plot(ab_fpr, ab_tpr,  label='AdaBoost')\n",
    "plt.scatter(1, 1,label = 'all-positive')\n",
    "\n",
    "plt.xlabel('False Positive Rate')\n",
    "plt.ylabel('True Positive Rate')\n",
    "plt.title('ROC curve')\n",
    "\n",
    "plt.legend()\n",
    "\n",
    "plt.show()"
   ]
  },
  {
   "cell_type": "code",
   "execution_count": 684,
   "id": "5e6044ef",
   "metadata": {},
   "outputs": [],
   "source": [
    "#print(len(lg_fpr), len(lg_tpr))"
   ]
  },
  {
   "cell_type": "code",
   "execution_count": 698,
   "id": "a16c6a3c",
   "metadata": {},
   "outputs": [
    {
     "data": {
      "text/plain": [
       "<matplotlib.legend.Legend at 0x7fb661a77040>"
      ]
     },
     "execution_count": 698,
     "metadata": {},
     "output_type": "execute_result"
    },
    {
     "data": {
      "image/png": "[encoded data removed]",
      "text/plain": [
       "<Figure size 432x288 with 1 Axes>"
      ]
     },
     "metadata": {
      "needs_background": "light"
     },
     "output_type": "display_data"
    }
   ],
   "source": [
    "lg_precision, lg_recall, _ = precision_recall_curve(y4_test, lg_pred)\n",
    "plt.plot(lg_recall, lg_precision, marker='.', label='Logistic')\n",
    "\n",
    "ab_precision, ab_recall, _ = precision_recall_curve(y4_test, ab_pred)\n",
    "plt.plot(ab_recall, ab_precision, marker='.', label='AdaBoost')\n",
    "plt.scatter(1, y = np.min(lg_precision),label = 'all-positive')\n",
    "\n",
    "plt.title('Precision-Recall curve')\n",
    "plt.xlabel('Recall')\n",
    "plt.ylabel('Precision')\n",
    "plt.legend()"
   ]
  },
  {
   "cell_type": "markdown",
   "id": "eabc85c7",
   "metadata": {},
   "source": [
    "# Problem 4.2\n",
    "\n",
    "P-R curve:\n",
    "When we have an all positive classifier with n points:\n",
    "\n",
    "In such case, precision will be proportional to the positive rate in the data. If we had a balanced dataset with n positive and n negative, Precision will be = n/(n+n) = 1/2.\n",
    "\n",
    "So the all positive classifier will lie be at the lowest precision point and highest recall point.\n",
    "\n",
    "ROC curve:\n",
    "An all positive classifier will be at point (1,1).\n"
   ]
  },
  {
   "cell_type": "code",
   "execution_count": 564,
   "id": "c810a6d4",
   "metadata": {},
   "outputs": [
    {
     "name": "stdout",
     "output_type": "stream",
     "text": [
      "116 116\n"
     ]
    }
   ],
   "source": [
    "print(len(lg_precision), len(lg_recall))"
   ]
  },
  {
   "cell_type": "code",
   "execution_count": 704,
   "id": "b0eaf331",
   "metadata": {},
   "outputs": [
    {
     "name": "stdout",
     "output_type": "stream",
     "text": [
      "Logistic : ROC AUC=0.932\n",
      "AdaBoost : ROC AUC=0.938\n",
      "Logistic : PR AUC=0.920\n",
      "AdaBoost : PR AUC=0.941\n"
     ]
    }
   ],
   "source": [
    "lg_auroc = roc_auc_score(y4_test, lg_pred)\n",
    "ab_auroc = roc_auc_score(y4_test, ab_pred)\n",
    "\n",
    "lg_aupr = auc(lg_recall, lg_precision)\n",
    "ab_aupr = auc(ab_recall, ab_precision)\n",
    "\n",
    "print('Logistic : ROC AUC=%.3f' % (lg_auroc))\n",
    "print('AdaBoost : ROC AUC=%.3f' % (ab_auroc))\n",
    "print('Logistic : PR AUC=%.3f' % (lg_aupr))\n",
    "print('AdaBoost : PR AUC=%.3f' % (ab_aupr))"
   ]
  },
  {
   "cell_type": "code",
   "execution_count": 726,
   "id": "e043340b",
   "metadata": {},
   "outputs": [
    {
     "data": {
      "text/plain": [
       "0.4449275362318841"
      ]
     },
     "execution_count": 726,
     "metadata": {},
     "output_type": "execute_result"
    }
   ],
   "source": [
    "len(y4[y4==1])/len(y4)"
   ]
  },
  {
   "cell_type": "code",
   "execution_count": 705,
   "id": "de0a54a8",
   "metadata": {},
   "outputs": [],
   "source": [
    "#remove 0 recall instance\n",
    "ab_precision= ab_precision[ab_recall !=0]\n",
    "lg_precision= lg_precision[lg_recall !=0]\n",
    "lg_recall= lg_recall[lg_recall != 0]\n",
    "ab_recall= ab_recall[ab_recall != 0]"
   ]
  },
  {
   "cell_type": "code",
   "execution_count": 727,
   "id": "c8044cb0",
   "metadata": {},
   "outputs": [
    {
     "name": "stdout",
     "output_type": "stream",
     "text": [
      "Logistic : PRG AUC=51.156\n",
      "AB : PRG AUC=51.234\n"
     ]
    },
    {
     "data": {
      "text/plain": [
       "<matplotlib.legend.Legend at 0x7fb6c49e44c0>"
      ]
     },
     "execution_count": 727,
     "metadata": {},
     "output_type": "execute_result"
    },
    {
     "data": {
      "image/png": "[encoded data removed]",
      "text/plain": [
       "<Figure size 432x288 with 1 Axes>"
      ]
     },
     "metadata": {
      "needs_background": "light"
     },
     "output_type": "display_data"
    }
   ],
   "source": [
    "#p is the lowest point in the PR curve to scale the PRG curve\n",
    "#p= np.min(lg_precision)\n",
    "p= len(y4[y4==1])/len(y4)\n",
    "\n",
    "lg_precG = (lg_precision - p)/((1-p)*lg_precision)\n",
    "ab_precG = (ab_precision - p)/((1-p)*ab_precision)\n",
    "\n",
    "\n",
    "ab_recG =   (ab_recall - p)/((1-p)*ab_recall)\n",
    "lg_recG =  (lg_recall - p)/((1-p)*lg_recall)\n",
    "\n",
    "\n",
    "lg_auprg = auc(lg_recG, lg_precG)\n",
    "ab_auprg = auc(ab_recG, ab_precG)\n",
    "print('Logistic : PRG AUC=%.3f' % (lg_auprg))\n",
    "print('AB : PRG AUC=%.3f' % (ab_auprg))\n",
    "\n",
    "plt.plot(lg_recG, lg_precG ,  label='Logistic')\n",
    "plt.plot(ab_recG, ab_precG ,  label='Ada')\n",
    "plt.xlabel('Recall-Gain')\n",
    "plt.ylabel('Precision-Gain')\n",
    "plt.title('Precision-Recall Gain curve')\n",
    "plt.xlim(0,1)\n",
    "plt.legend()"
   ]
  },
  {
   "cell_type": "markdown",
   "id": "ce40c668",
   "metadata": {},
   "source": [
    "For some reason, the recall is not scaling properly and we are ending up with negative recall.\n",
    "This is why the AUC is so large"
   ]
  },
  {
   "cell_type": "markdown",
   "id": "7c3d88b4",
   "metadata": {},
   "source": [
    "ROC curves are used widely in the ML community and calculating the area under the curve is a common appraoch to the ROC curve. The AUROC estimates the the probability that a randomly chosen positive is ranked higher by the model than a randomly chosen negative. But the precision-recall curve lack many of the advantages offered by the ROC curve. The AUPR curve does not have any meaningul interpretation. \n",
    "\n",
    "The F1 score is a way that precision and recall are combined into one measure, which takes the harmonic mean of precision and recall. But the area under the PR curve sums the arithmetic mean of precision values. \n",
    "The authors introduce the PRG curve.\n",
    "\n",
    "\n",
    "Pros of the PRG curve include:\n",
    "The AUPRG provides a meaningful point. AUPRG is also easier to calculate than AUPR due to linear interpolsation.\n",
    "\n",
    "I agree that PRG curve is more useful than the PR curve. \n",
    "But metrics are only as useful as the people that use it. So if no one is using PRG curve, then it does not provide much benefit."
   ]
  }
 ],
 "metadata": {
  "kernelspec": {
   "display_name": "Python 3",
   "language": "python",
   "name": "python3"
  },
  "language_info": {
   "codemirror_mode": {
    "name": "ipython",
    "version": 3
   },
   "file_extension": ".py",
   "mimetype": "text/x-python",
   "name": "python",
   "nbconvert_exporter": "python",
   "pygments_lexer": "ipython3",
   "version": "3.9.4"
  }
 },
 "nbformat": 4,
 "nbformat_minor": 5
}
